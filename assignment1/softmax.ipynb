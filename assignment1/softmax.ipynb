{
 "cells": [
  {
   "cell_type": "markdown",
   "metadata": {},
   "source": [
    "# Softmax exercise\n",
    "\n",
    "*Complete and hand in this completed worksheet (including its outputs and any supporting code outside of the worksheet) with your assignment submission. For more details see the [assignments page](http://vision.stanford.edu/teaching/cs231n/assignments.html) on the course website.*\n",
    "\n",
    "This exercise is analogous to the SVM exercise. You will:\n",
    "\n",
    "- implement a fully-vectorized **loss function** for the Softmax classifier\n",
    "- implement the fully-vectorized expression for its **analytic gradient**\n",
    "- **check your implementation** with numerical gradient\n",
    "- use a validation set to **tune the learning rate and regularization** strength\n",
    "- **optimize** the loss function with **SGD**\n",
    "- **visualize** the final learned weights\n"
   ]
  },
  {
   "cell_type": "code",
   "execution_count": 1,
   "metadata": {
    "collapsed": true
   },
   "outputs": [],
   "source": [
    "import random\n",
    "import numpy as np\n",
    "from cs231n.data_utils import load_CIFAR10\n",
    "import matplotlib.pyplot as plt\n",
    "\n",
    "from __future__ import print_function\n",
    "\n",
    "%matplotlib inline\n",
    "plt.rcParams['figure.figsize'] = (10.0, 8.0) # set default size of plots\n",
    "plt.rcParams['image.interpolation'] = 'nearest'\n",
    "plt.rcParams['image.cmap'] = 'gray'\n",
    "\n",
    "# for auto-reloading extenrnal modules\n",
    "# see http://stackoverflow.com/questions/1907993/autoreload-of-modules-in-ipython\n",
    "%load_ext autoreload\n",
    "%autoreload 2"
   ]
  },
  {
   "cell_type": "code",
   "execution_count": 2,
   "metadata": {
    "collapsed": false
   },
   "outputs": [
    {
     "name": "stdout",
     "output_type": "stream",
     "text": [
      "Train data shape:  (49000, 3073)\n",
      "Train labels shape:  (49000,)\n",
      "Validation data shape:  (1000, 3073)\n",
      "Validation labels shape:  (1000,)\n",
      "Test data shape:  (1000, 3073)\n",
      "Test labels shape:  (1000,)\n",
      "dev data shape:  (500, 3073)\n",
      "dev labels shape:  (500,)\n"
     ]
    }
   ],
   "source": [
    "def get_CIFAR10_data(num_training=49000, num_validation=1000, num_test=1000, num_dev=500):\n",
    "    \"\"\"\n",
    "    Load the CIFAR-10 dataset from disk and perform preprocessing to prepare\n",
    "    it for the linear classifier. These are the same steps as we used for the\n",
    "    SVM, but condensed to a single function.  \n",
    "    \"\"\"\n",
    "    # Load the raw CIFAR-10 data\n",
    "    cifar10_dir = 'cs231n/datasets/cifar-10-batches-py'\n",
    "    \n",
    "    X_train, y_train, X_test, y_test = load_CIFAR10(cifar10_dir)\n",
    "    \n",
    "    # subsample the data\n",
    "    mask = list(range(num_training, num_training + num_validation))\n",
    "    X_val = X_train[mask]\n",
    "    y_val = y_train[mask]\n",
    "    mask = list(range(num_training))\n",
    "    X_train = X_train[mask]\n",
    "    y_train = y_train[mask]\n",
    "    mask = list(range(num_test))\n",
    "    X_test = X_test[mask]\n",
    "    y_test = y_test[mask]\n",
    "    mask = np.random.choice(num_training, num_dev, replace=False)\n",
    "    X_dev = X_train[mask]\n",
    "    y_dev = y_train[mask]\n",
    "    \n",
    "    # Preprocessing: reshape the image data into rows\n",
    "    X_train = np.reshape(X_train, (X_train.shape[0], -1))\n",
    "    X_val = np.reshape(X_val, (X_val.shape[0], -1))\n",
    "    X_test = np.reshape(X_test, (X_test.shape[0], -1))\n",
    "    X_dev = np.reshape(X_dev, (X_dev.shape[0], -1))\n",
    "    \n",
    "    # Normalize the data: subtract the mean image\n",
    "    mean_image = np.mean(X_train, axis = 0)\n",
    "    X_train -= mean_image\n",
    "    X_val -= mean_image\n",
    "    X_test -= mean_image\n",
    "    X_dev -= mean_image\n",
    "    \n",
    "    # add bias dimension and transform into columns\n",
    "    X_train = np.hstack([X_train, np.ones((X_train.shape[0], 1))])\n",
    "    X_val = np.hstack([X_val, np.ones((X_val.shape[0], 1))])\n",
    "    X_test = np.hstack([X_test, np.ones((X_test.shape[0], 1))])\n",
    "    X_dev = np.hstack([X_dev, np.ones((X_dev.shape[0], 1))])\n",
    "    \n",
    "    return X_train, y_train, X_val, y_val, X_test, y_test, X_dev, y_dev\n",
    "\n",
    "\n",
    "# Cleaning up variables to prevent loading data multiple times (which may cause memory issue)\n",
    "try:\n",
    "   del X_train, y_train\n",
    "   del X_test, y_test\n",
    "   print('Clear previously loaded data.')\n",
    "except:\n",
    "   pass\n",
    "\n",
    "# Invoke the above function to get our data.\n",
    "X_train, y_train, X_val, y_val, X_test, y_test, X_dev, y_dev = get_CIFAR10_data()\n",
    "print('Train data shape: ', X_train.shape)\n",
    "print('Train labels shape: ', y_train.shape)\n",
    "print('Validation data shape: ', X_val.shape)\n",
    "print('Validation labels shape: ', y_val.shape)\n",
    "print('Test data shape: ', X_test.shape)\n",
    "print('Test labels shape: ', y_test.shape)\n",
    "print('dev data shape: ', X_dev.shape)\n",
    "print('dev labels shape: ', y_dev.shape)"
   ]
  },
  {
   "cell_type": "markdown",
   "metadata": {},
   "source": [
    "## Softmax Classifier\n",
    "\n",
    "Your code for this section will all be written inside **cs231n/classifiers/softmax.py**. \n"
   ]
  },
  {
   "cell_type": "code",
   "execution_count": 12,
   "metadata": {
    "collapsed": false
   },
   "outputs": [
    {
     "name": "stdout",
     "output_type": "stream",
     "text": [
      "[[  2   4   6]\n",
      " [  8  12 -12]]\n",
      "[[12]\n",
      " [ 8]]\n"
     ]
    },
    {
     "data": {
      "text/plain": [
       "array([[ 0.16666667,  0.33333333,  0.5       ],\n",
       "       [ 1.        ,  1.5       , -1.5       ]])"
      ]
     },
     "execution_count": 12,
     "metadata": {},
     "output_type": "execute_result"
    }
   ],
   "source": [
    "a = np.array([[2, 4, 6], [8, 12, -12]])\n",
    "b = np.sum(a, axis=1)[:, np.newaxis]\n",
    "print(a)\n",
    "print(b)\n",
    "np.divide(a, b)"
   ]
  },
  {
   "cell_type": "code",
   "execution_count": 13,
   "metadata": {
    "collapsed": false
   },
   "outputs": [
    {
     "name": "stdout",
     "output_type": "stream",
     "text": [
      "loss: 2.339926\n",
      "sanity check: 2.302585\n"
     ]
    }
   ],
   "source": [
    "# First implement the naive softmax loss function with nested loops.\n",
    "# Open the file cs231n/classifiers/softmax.py and implement the\n",
    "# softmax_loss_naive function.\n",
    "\n",
    "from cs231n.classifiers.softmax import softmax_loss_naive\n",
    "import time\n",
    "\n",
    "# Generate a random softmax weight matrix and use it to compute the loss.\n",
    "W = np.random.randn(3073, 10) * 0.0001\n",
    "loss, grad = softmax_loss_naive(W, X_dev, y_dev, 0.0)\n",
    "\n",
    "# As a rough sanity check, our loss should be something close to -log(0.1).\n",
    "print('loss: %f' % loss)\n",
    "print('sanity check: %f' % (-np.log(0.1)))"
   ]
  },
  {
   "cell_type": "markdown",
   "metadata": {},
   "source": [
    "## Inline Question 1:\n",
    "Why do we expect our loss to be close to -log(0.1)? Explain briefly.**\n",
    "\n",
    "**Your answer:** *Fill this in*\n",
    "\n",
    "This is because there are 10 classes, an in the beginning, each of them \n",
    "will have equal probability of 1/10.\n",
    "\n"
   ]
  },
  {
   "cell_type": "code",
   "execution_count": 28,
   "metadata": {
    "collapsed": false
   },
   "outputs": [
    {
     "name": "stdout",
     "output_type": "stream",
     "text": [
      "numerical: 0.040175 analytic: 0.040175, relative error: 3.478980e-07\n",
      "numerical: 1.587341 analytic: 1.587341, relative error: 2.518177e-08\n",
      "numerical: 2.242165 analytic: 2.242165, relative error: 2.710344e-08\n",
      "numerical: -2.502862 analytic: -2.502862, relative error: 2.185376e-08\n",
      "numerical: 2.093125 analytic: 2.093125, relative error: 3.385299e-08\n",
      "numerical: 1.300568 analytic: 1.300568, relative error: 1.995714e-09\n",
      "numerical: 1.585166 analytic: 1.585166, relative error: 3.576378e-08\n",
      "numerical: -1.032659 analytic: -1.032659, relative error: 1.351464e-09\n",
      "numerical: -4.053234 analytic: -4.053234, relative error: 9.786896e-09\n",
      "numerical: 1.561634 analytic: 1.561634, relative error: 6.230482e-08\n",
      "numerical: -1.243344 analytic: -1.243344, relative error: 1.015231e-08\n",
      "numerical: -0.339310 analytic: -0.339310, relative error: 4.882402e-08\n",
      "numerical: -0.689442 analytic: -0.689442, relative error: 1.954965e-08\n",
      "numerical: 0.095477 analytic: 0.095477, relative error: 2.819530e-07\n",
      "numerical: 1.702491 analytic: 1.702491, relative error: 6.788664e-09\n",
      "numerical: -0.826172 analytic: -0.826172, relative error: 3.056905e-08\n",
      "numerical: 1.217846 analytic: 1.217846, relative error: 3.254112e-08\n",
      "numerical: -0.873776 analytic: -0.873776, relative error: 3.268511e-08\n",
      "numerical: -0.531378 analytic: -0.531378, relative error: 2.423359e-08\n",
      "numerical: 2.251406 analytic: 2.251405, relative error: 4.076247e-08\n"
     ]
    }
   ],
   "source": [
    "# Complete the implementation of softmax_loss_naive and implement a (naive)\n",
    "# version of the gradient that uses nested loops.\n",
    "loss, grad = softmax_loss_naive(W, X_dev, y_dev, 0.0)\n",
    "\n",
    "# As we did for the SVM, use numeric gradient checking as a debugging tool.\n",
    "# The numeric gradient should be close to the analytic gradient.\n",
    "from cs231n.gradient_check import grad_check_sparse\n",
    "f = lambda w: softmax_loss_naive(w, X_dev, y_dev, 0.0)[0]\n",
    "grad_numerical = grad_check_sparse(f, W, grad, 10)\n",
    "\n",
    "# similar to SVM case, do another gradient check with regularization\n",
    "loss, grad = softmax_loss_naive(W, X_dev, y_dev, 5e1)\n",
    "f = lambda w: softmax_loss_naive(w, X_dev, y_dev, 5e1)[0]\n",
    "grad_numerical = grad_check_sparse(f, W, grad, 10)"
   ]
  },
  {
   "cell_type": "code",
   "execution_count": 36,
   "metadata": {
    "collapsed": false
   },
   "outputs": [
    {
     "name": "stdout",
     "output_type": "stream",
     "text": [
      "[[  2   3   4]\n",
      " [  8  12 -12]]\n",
      "[[0.1 0.2 0.3 0.4]\n",
      " [0.5 0.6 0.7 0.8]]\n",
      "[[ 2.1   2.6   3.1   3.6 ]\n",
      " [ 3.15  3.9   4.65  5.4 ]\n",
      " [-2.8  -3.2  -3.6  -4.  ]]\n"
     ]
    },
    {
     "data": {
      "text/plain": [
       "(2, 4)"
      ]
     },
     "execution_count": 36,
     "metadata": {},
     "output_type": "execute_result"
    }
   ],
   "source": [
    "x = np.array([[2, 3, 4], [8, 12, -12]])  # 2x3 \n",
    "probs = np.array([[0.1, 0.2, 0.3, 0.4], [0.5, 0.6, 0.7, 0.8]])  # 2 x 4\n",
    "print(x)\n",
    "print(probs)\n",
    "dw= np.array([np.dot(x[i].T[:, np.newaxis], probs[i][np.newaxis, :]) for i in range(2)])\n",
    "dw1= np.mean(dw, axis=0)\n",
    "print(dw1)\n",
    "dw2 = np.dot(x.T, probs) / 2\n",
    "\n",
    "y = np.array([3, 1])\n",
    "one_hot_targets = np.eye(4)[y]\n",
    "one_hot_targets.shape\n",
    "probs.shape"
   ]
  },
  {
   "cell_type": "code",
   "execution_count": 37,
   "metadata": {
    "collapsed": false
   },
   "outputs": [
    {
     "name": "stdout",
     "output_type": "stream",
     "text": [
      "naive loss: 2.339926e+00 computed in 0.083281s\n",
      "vectorized loss: 2.339926e+00 computed in 0.005339s\n",
      "Loss difference: 0.000000\n",
      "Gradient difference: 0.000000\n"
     ]
    }
   ],
   "source": [
    "# Now that we have a naive implementation of the softmax loss function and its gradient,\n",
    "# implement a vectorized version in softmax_loss_vectorized.\n",
    "# The two versions should compute the same results, but the vectorized version should be\n",
    "# much faster.\n",
    "tic = time.time()\n",
    "loss_naive, grad_naive = softmax_loss_naive(W, X_dev, y_dev, 0.000005)\n",
    "toc = time.time()\n",
    "print('naive loss: %e computed in %fs' % (loss_naive, toc - tic))\n",
    "\n",
    "from cs231n.classifiers.softmax import softmax_loss_vectorized\n",
    "tic = time.time()\n",
    "loss_vectorized, grad_vectorized = softmax_loss_vectorized(W, X_dev, y_dev, 0.000005)\n",
    "toc = time.time()\n",
    "print('vectorized loss: %e computed in %fs' % (loss_vectorized, toc - tic))\n",
    "\n",
    "# As we did for the SVM, we use the Frobenius norm to compare the two versions\n",
    "# of the gradient.\n",
    "grad_difference = np.linalg.norm(grad_naive - grad_vectorized, ord='fro')\n",
    "print('Loss difference: %f' % np.abs(loss_naive - loss_vectorized))\n",
    "print('Gradient difference: %f' % grad_difference)"
   ]
  },
  {
   "cell_type": "code",
   "execution_count": 39,
   "metadata": {
    "collapsed": false
   },
   "outputs": [
    {
     "name": "stdout",
     "output_type": "stream",
     "text": [
      "iteration 0 / 1500: loss 772.702611\n",
      "iteration 100 / 1500: loss 283.705564\n",
      "iteration 200 / 1500: loss 105.176208\n",
      "iteration 300 / 1500: loss 39.785550\n",
      "iteration 400 / 1500: loss 15.957532\n",
      "iteration 500 / 1500: loss 7.136293\n",
      "iteration 600 / 1500: loss 3.900661\n",
      "iteration 700 / 1500: loss 2.829374\n",
      "iteration 800 / 1500: loss 2.369629\n",
      "iteration 900 / 1500: loss 2.190646\n",
      "iteration 1000 / 1500: loss 2.127344\n",
      "iteration 1100 / 1500: loss 2.131599\n",
      "iteration 1200 / 1500: loss 2.110286\n",
      "iteration 1300 / 1500: loss 2.073042\n",
      "iteration 1400 / 1500: loss 2.090488\n",
      "That took 9.219692s\n"
     ]
    }
   ],
   "source": [
    "# In the file linear_classifier.py, implement SGD in the function\n",
    "# LinearClassifier.train() and then run it with the code below.\n",
    "from cs231n.classifiers import Softmax\n",
    "sfc = Softmax()\n",
    "tic = time.time()\n",
    "loss_hist = sfc.train(X_train, y_train, learning_rate=1e-7, reg=2.5e4,\n",
    "                      num_iters=1500, verbose=True)\n",
    "toc = time.time()\n",
    "print('That took %fs' % (toc - tic))"
   ]
  },
  {
   "cell_type": "code",
   "execution_count": 40,
   "metadata": {
    "collapsed": false
   },
   "outputs": [
    {
     "data": {
      "image/png": "[encoded data removed]",
      "text/plain": [
       "<Figure size 432x288 with 1 Axes>"
      ]
     },
     "metadata": {},
     "output_type": "display_data"
    }
   ],
   "source": [
    "# A useful debugging strategy is to plot the loss as a function of\n",
    "# iteration number:\n",
    "plt.plot(loss_hist)\n",
    "plt.xlabel('Iteration number')\n",
    "plt.ylabel('Loss value')\n",
    "plt.show()"
   ]
  },
  {
   "cell_type": "code",
   "execution_count": 41,
   "metadata": {
    "collapsed": false
   },
   "outputs": [
    {
     "name": "stdout",
     "output_type": "stream",
     "text": [
      "training accuracy: 0.328510\n",
      "validation accuracy: 0.337000\n"
     ]
    }
   ],
   "source": [
    "# Write the LinearSVM.predict function and evaluate the performance on both the\n",
    "# training and validation set\n",
    "y_train_pred = sfc.predict(X_train)\n",
    "print('training accuracy: %f' % (np.mean(y_train == y_train_pred), ))\n",
    "y_val_pred = sfc.predict(X_val)\n",
    "print('validation accuracy: %f' % (np.mean(y_val == y_val_pred), ))"
   ]
  },
  {
   "cell_type": "code",
   "execution_count": 42,
   "metadata": {
    "collapsed": false
   },
   "outputs": [
    {
     "name": "stdout",
     "output_type": "stream",
     "text": [
      "iteration 0 / 1501: loss 766.475678\n",
      "iteration 100 / 1501: loss 281.421476\n",
      "iteration 200 / 1501: loss 104.484913\n",
      "iteration 300 / 1501: loss 39.532615\n",
      "iteration 400 / 1501: loss 15.782613\n",
      "iteration 500 / 1501: loss 7.134670\n",
      "iteration 600 / 1501: loss 3.916716\n",
      "iteration 700 / 1501: loss 2.784172\n",
      "iteration 800 / 1501: loss 2.346642\n",
      "iteration 900 / 1501: loss 2.110022\n",
      "iteration 1000 / 1501: loss 2.104145\n",
      "iteration 1100 / 1501: loss 2.122597\n",
      "iteration 1200 / 1501: loss 2.125109\n",
      "iteration 1300 / 1501: loss 2.078062\n",
      "iteration 1400 / 1501: loss 2.083872\n",
      "iteration 1500 / 1501: loss 2.097037\n",
      "iteration 0 / 1501: loss 1555.665143\n",
      "iteration 100 / 1501: loss 209.474572\n",
      "iteration 200 / 1501: loss 29.873572\n",
      "iteration 300 / 1501: loss 5.880585\n",
      "iteration 400 / 1501: loss 2.585506\n",
      "iteration 500 / 1501: loss 2.204884\n",
      "iteration 600 / 1501: loss 2.114284\n",
      "iteration 700 / 1501: loss 2.110374\n",
      "iteration 800 / 1501: loss 2.129904\n",
      "iteration 900 / 1501: loss 2.181584\n",
      "iteration 1000 / 1501: loss 2.152884\n",
      "iteration 1100 / 1501: loss 2.135317\n",
      "iteration 1200 / 1501: loss 2.151738\n",
      "iteration 1300 / 1501: loss 2.143786\n",
      "iteration 1400 / 1501: loss 2.158656\n",
      "iteration 1500 / 1501: loss 2.184171\n",
      "iteration 0 / 1501: loss 774.537513\n",
      "iteration 100 / 1501: loss 6.909898\n",
      "iteration 200 / 1501: loss 2.124160\n",
      "iteration 300 / 1501: loss 2.111047\n",
      "iteration 400 / 1501: loss 2.059559\n",
      "iteration 500 / 1501: loss 2.143748\n",
      "iteration 600 / 1501: loss 2.110132\n",
      "iteration 700 / 1501: loss 2.091483\n",
      "iteration 800 / 1501: loss 2.125093\n",
      "iteration 900 / 1501: loss 2.103178\n",
      "iteration 1000 / 1501: loss 2.024934\n",
      "iteration 1100 / 1501: loss 2.022440\n",
      "iteration 1200 / 1501: loss 2.111539\n",
      "iteration 1300 / 1501: loss 2.107439\n",
      "iteration 1400 / 1501: loss 2.007399\n",
      "iteration 1500 / 1501: loss 2.073840\n",
      "iteration 0 / 1501: loss 1555.354294\n",
      "iteration 100 / 1501: loss 2.242766\n",
      "iteration 200 / 1501: loss 2.150519\n",
      "iteration 300 / 1501: loss 2.124436\n",
      "iteration 400 / 1501: loss 2.138286\n",
      "iteration 500 / 1501: loss 2.107632\n",
      "iteration 600 / 1501: loss 2.156341\n",
      "iteration 700 / 1501: loss 2.159384\n",
      "iteration 800 / 1501: loss 2.139108\n",
      "iteration 900 / 1501: loss 2.172697\n",
      "iteration 1000 / 1501: loss 2.136139\n",
      "iteration 1100 / 1501: loss 2.122514\n",
      "iteration 1200 / 1501: loss 2.129785\n",
      "iteration 1300 / 1501: loss 2.118806\n",
      "iteration 1400 / 1501: loss 2.126048\n",
      "iteration 1500 / 1501: loss 2.128195\n",
      "lr 1.000000e-07 reg 2.500000e+04 train accuracy: 0.330898 val accuracy: 0.345000\n",
      "lr 1.000000e-07 reg 5.000000e+04 train accuracy: 0.313061 val accuracy: 0.330000\n",
      "lr 5.000000e-07 reg 2.500000e+04 train accuracy: 0.321020 val accuracy: 0.333000\n",
      "lr 5.000000e-07 reg 5.000000e+04 train accuracy: 0.310592 val accuracy: 0.333000\n",
      "best validation accuracy achieved during cross-validation: 0.345000\n"
     ]
    }
   ],
   "source": [
    "# Use the validation set to tune hyperparameters (regularization strength and\n",
    "# learning rate). You should experiment with different ranges for the learning\n",
    "# rates and regularization strengths; if you are careful you should be able to\n",
    "# get a classification accuracy of over 0.35 on the validation set.\n",
    "from cs231n.classifiers import Softmax\n",
    "results = {}\n",
    "best_val = -1\n",
    "best_softmax = None\n",
    "learning_rates = [1e-7, 5e-7]\n",
    "regularization_strengths = [2.5e4, 5e4]\n",
    "\n",
    "################################################################################\n",
    "# TODO:                                                                        #\n",
    "# Use the validation set to set the learning rate and regularization strength. #\n",
    "# This should be identical to the validation that you did for the SVM; save    #\n",
    "# the best trained softmax classifer in best_softmax.                          #\n",
    "################################################################################\n",
    "# Your code\n",
    "for rate in learning_rates:\n",
    "    for reg in regularization_strengths:\n",
    "        sfm = Softmax()\n",
    "        loss_hist = sfm.train(X_train, y_train, learning_rate=rate, reg=reg,\n",
    "                      num_iters=1501, verbose=True)\n",
    "        train_acc = np.mean(y_train == sfm.predict(X_train))\n",
    "        val_acc = np.mean(y_val == sfm.predict(X_val))\n",
    "        results[(rate, reg)] = (train_acc, val_acc)\n",
    "        if val_acc > best_val:\n",
    "            best_val = val_acc\n",
    "            best_softmax = sfm\n",
    "\n",
    "################################################################################\n",
    "#                              END OF YOUR CODE                                #\n",
    "################################################################################\n",
    "    \n",
    "# Print out results.\n",
    "for lr, reg in sorted(results):\n",
    "    train_accuracy, val_accuracy = results[(lr, reg)]\n",
    "    print('lr %e reg %e train accuracy: %f val accuracy: %f' % (\n",
    "                lr, reg, train_accuracy, val_accuracy))\n",
    "    \n",
    "print('best validation accuracy achieved during cross-validation: %f' % best_val)"
   ]
  },
  {
   "cell_type": "code",
   "execution_count": 43,
   "metadata": {
    "collapsed": false
   },
   "outputs": [
    {
     "name": "stdout",
     "output_type": "stream",
     "text": [
      "softmax on raw pixels final test set accuracy: 0.340000\n"
     ]
    }
   ],
   "source": [
    "# evaluate on test set\n",
    "# Evaluate the best softmax on test set\n",
    "y_test_pred = best_softmax.predict(X_test)\n",
    "test_accuracy = np.mean(y_test == y_test_pred)\n",
    "print('softmax on raw pixels final test set accuracy: %f' % (test_accuracy, ))"
   ]
  },
  {
   "cell_type": "markdown",
   "metadata": {},
   "source": [
    "**Inline Question** - *True or False*\n",
    "\n",
    "It's possible to add a new datapoint to a training set that would leave the SVM loss unchanged, but this is not the case with the Softmax classifier loss.\n",
    "\n",
    "*Your answer*: \n",
    "\n",
    "True\n",
    "\n",
    "*Your explanation*:\n",
    "\n",
    "For SVM:\n",
    "It's possible that the new datapoint is far from the boundary and thus, the correct score > other scores + margin, and hence, will not contribute to the loss (since it is a hinge loss).\n",
    "\n",
    "However for Softmax:\n",
    "No matter how far the point is from the boundary, it will still contribute to the probability of the correct label and affect the loss.\n",
    "\n"
   ]
  },
  {
   "cell_type": "code",
   "execution_count": 48,
   "metadata": {
    "collapsed": false
   },
   "outputs": [
    {
     "data": {
      "image/png": "[encoded data removed]",
      "text/plain": [
       "<Figure size 432x288 with 10 Axes>"
      ]
     },
     "metadata": {},
     "output_type": "display_data"
    }
   ],
   "source": [
    "# Plotting\n",
    "w = best_softmax.W[:-1, :].reshape(32, 32, 3, 10)\n",
    "\n",
    "w_min, w_max = np.min(w), np.max(w)\n",
    "\n",
    "classes = ['plane', 'car', 'bird', 'cat', 'deer', 'dog', 'frog', 'horse', 'ship', 'truck']\n",
    "for i in range(len(classes)):\n",
    "    plt.subplot(2, 5, i+1)\n",
    "    wimg = 255.0 * (w[:,:,:,i] - w_min) / (w_max - w_min)\n",
    "    plt.imshow(wimg.astype('uint8'))\n",
    "    plt.axis('off')\n",
    "    plt.title(classes[i])\n",
    "plt.show()"
   ]
  },
  {
   "cell_type": "code",
   "execution_count": 44,
   "metadata": {
    "collapsed": false
   },
   "outputs": [
    {
     "data": {
      "image/png": "[encoded data removed]",
      "text/plain": [
       "<Figure size 432x288 with 10 Axes>"
      ]
     },
     "metadata": {},
     "output_type": "display_data"
    }
   ],
   "source": [
    "# Visualize the learned weights for each class\n",
    "w = best_softmax.W[:-1,:] # strip out the bias\n",
    "w = w.reshape(32, 32, 3, 10)\n",
    "\n",
    "w_min, w_max = np.min(w), np.max(w)\n",
    "\n",
    "classes = ['plane', 'car', 'bird', 'cat', 'deer', 'dog', 'frog', 'horse', 'ship', 'truck']\n",
    "for i in range(10):\n",
    "    plt.subplot(2, 5, i + 1)\n",
    "    \n",
    "    # Rescale the weights to be between 0 and 255\n",
    "    wimg = 255.0 * (w[:, :, :, i].squeeze() - w_min) / (w_max - w_min)\n",
    "    plt.imshow(wimg.astype('uint8'))\n",
    "    plt.axis('off')\n",
    "    plt.title(classes[i])"
   ]
  }
 ],
 "metadata": {
  "kernelspec": {
   "display_name": "Python3 (roboschool)",
   "language": "python",
   "name": "roboschool"
  },
  "language_info": {
   "codemirror_mode": {
    "name": "ipython",
    "version": 3
   },
   "file_extension": ".py",
   "mimetype": "text/x-python",
   "name": "python",
   "nbconvert_exporter": "python",
   "pygments_lexer": "ipython3",
   "version": "3.6.4"
  }
 },
 "nbformat": 4,
 "nbformat_minor": 1
}
